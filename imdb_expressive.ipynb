{
 "cells": [
  {
   "cell_type": "markdown",
   "metadata": {},
   "source": [
    "# Вариант 2"
   ]
  },
  {
   "cell_type": "markdown",
   "metadata": {
    "ExecuteTime": {
     "end_time": "2021-10-11T19:29:03.581078Z",
     "start_time": "2021-10-11T19:29:03.562416Z"
    }
   },
   "source": [
    "В качестве корпуса, который я решила использовать для анализа экспрессивов, я использовала  [корпус imdb](http://ai.stanford.edu/~amaas/data/sentiment/index.html). Я выбрала экспрессив unbelievable."
   ]
  },
  {
   "cell_type": "raw",
   "metadata": {
    "ExecuteTime": {
     "end_time": "2021-10-11T19:31:27.640690Z",
     "start_time": "2021-10-11T19:31:27.611688Z"
    },
    "run_control": {
     "marked": true
    }
   },
   "source": [
    "Как мне кажется, слово unbelievable носит скорее негативный контекст, так как существует слово incredible,\n",
    "которое примерно синонимично при переводе, но чаще используется в положительных примерах. Я бы предположила, \n",
    "что графиком для данного слово будет Reverse J-shape. \n",
    "Почему это слово -- экспрессив?\n",
    "в соответствии с правилами формальной семантики, оно соотвествует следующим критериям:\n",
    "    1) независимость \n",
    "    2) nondisplayceable \n",
    "    3) ориентированность на говорящего\n",
    "    4) возможность повторения для усиления эффекта\n",
    "    5) сложность перевода\n",
    "\n"
   ]
  },
  {
   "cell_type": "code",
   "execution_count": 171,
   "metadata": {
    "ExecuteTime": {
     "end_time": "2021-10-11T20:02:36.965597Z",
     "start_time": "2021-10-11T20:02:36.948975Z"
    }
   },
   "outputs": [],
   "source": [
    "import pandas as pd\n",
    "import os\n",
    "import re\n",
    "from nltk.tokenize import word_tokenize\n",
    "#tknzr = TweetTokenizer()\n",
    "import matplotlib.pyplot as plt\n",
    "import scipy.stats as stats"
   ]
  },
  {
   "cell_type": "code",
   "execution_count": 172,
   "metadata": {
    "ExecuteTime": {
     "end_time": "2021-10-11T20:02:56.745761Z",
     "start_time": "2021-10-11T20:02:56.719678Z"
    }
   },
   "outputs": [],
   "source": [
    "path = \"/Users/Светлана/imdb/aclImdb/train\"\n",
    "dir_list = os.listdir(path)"
   ]
  },
  {
   "cell_type": "code",
   "execution_count": 173,
   "metadata": {
    "ExecuteTime": {
     "end_time": "2021-10-11T20:05:26.153954Z",
     "start_time": "2021-10-11T20:03:15.307223Z"
    }
   },
   "outputs": [],
   "source": [
    "mark = []\n",
    "text = []\n",
    "token = []\n",
    "def read_and_process(path, mark, text):\n",
    "    dir_list = os.listdir(path)\n",
    "    for file in dir_list:\n",
    "        with  open(path+'/'+file, encoding=\"utf8\") as f:\n",
    "            contents = f.read()\n",
    "            tokens = word_tokenize(contents)\n",
    "            token.append(tokens)\n",
    "            m = file.split('_')[-1].split('.')[0]\n",
    "            mark.append(m)\n",
    "            text.append(contents.lower())\n",
    "read_and_process(path+\"/neg\", mark, text)\n",
    "read_and_process(path+\"/pos\", mark, text)"
   ]
  },
  {
   "cell_type": "code",
   "execution_count": 174,
   "metadata": {
    "ExecuteTime": {
     "end_time": "2021-10-11T20:05:54.415667Z",
     "start_time": "2021-10-11T20:05:54.169099Z"
    }
   },
   "outputs": [
    {
     "data": {
      "text/html": [
       "<div>\n",
       "<style scoped>\n",
       "    .dataframe tbody tr th:only-of-type {\n",
       "        vertical-align: middle;\n",
       "    }\n",
       "\n",
       "    .dataframe tbody tr th {\n",
       "        vertical-align: top;\n",
       "    }\n",
       "\n",
       "    .dataframe thead th {\n",
       "        text-align: right;\n",
       "    }\n",
       "</style>\n",
       "<table border=\"1\" class=\"dataframe\">\n",
       "  <thead>\n",
       "    <tr style=\"text-align: right;\">\n",
       "      <th></th>\n",
       "      <th>text</th>\n",
       "      <th>mark</th>\n",
       "      <th>token</th>\n",
       "    </tr>\n",
       "  </thead>\n",
       "  <tbody>\n",
       "    <tr>\n",
       "      <th>0</th>\n",
       "      <td>story of a man who has unnatural feelings for ...</td>\n",
       "      <td>3</td>\n",
       "      <td>[Story, of, a, man, who, has, unnatural, feeli...</td>\n",
       "    </tr>\n",
       "    <tr>\n",
       "      <th>1</th>\n",
       "      <td>airport '77 starts as a brand new luxury 747 p...</td>\n",
       "      <td>4</td>\n",
       "      <td>[Airport, '77, starts, as, a, brand, new, luxu...</td>\n",
       "    </tr>\n",
       "    <tr>\n",
       "      <th>2</th>\n",
       "      <td>this film lacked something i couldn't put my f...</td>\n",
       "      <td>4</td>\n",
       "      <td>[This, film, lacked, something, I, could, n't,...</td>\n",
       "    </tr>\n",
       "    <tr>\n",
       "      <th>3</th>\n",
       "      <td>sorry everyone,,, i know this is supposed to b...</td>\n",
       "      <td>1</td>\n",
       "      <td>[Sorry, everyone, ,, ,, ,, I, know, this, is, ...</td>\n",
       "    </tr>\n",
       "    <tr>\n",
       "      <th>4</th>\n",
       "      <td>when i was little my parents took me along to ...</td>\n",
       "      <td>1</td>\n",
       "      <td>[When, I, was, little, my, parents, took, me, ...</td>\n",
       "    </tr>\n",
       "  </tbody>\n",
       "</table>\n",
       "</div>"
      ],
      "text/plain": [
       "                                                text mark  \\\n",
       "0  story of a man who has unnatural feelings for ...    3   \n",
       "1  airport '77 starts as a brand new luxury 747 p...    4   \n",
       "2  this film lacked something i couldn't put my f...    4   \n",
       "3  sorry everyone,,, i know this is supposed to b...    1   \n",
       "4  when i was little my parents took me along to ...    1   \n",
       "\n",
       "                                               token  \n",
       "0  [Story, of, a, man, who, has, unnatural, feeli...  \n",
       "1  [Airport, '77, starts, as, a, brand, new, luxu...  \n",
       "2  [This, film, lacked, something, I, could, n't,...  \n",
       "3  [Sorry, everyone, ,, ,, ,, I, know, this, is, ...  \n",
       "4  [When, I, was, little, my, parents, took, me, ...  "
      ]
     },
     "execution_count": 174,
     "metadata": {},
     "output_type": "execute_result"
    }
   ],
   "source": [
    "#Возьмем имеющиеся данные, создадим из них датасет\n",
    "df = pd.DataFrame(list(zip(text, mark, token)), columns = ['text', 'mark', 'token'])\n",
    "df.head()"
   ]
  },
  {
   "cell_type": "code",
   "execution_count": 183,
   "metadata": {
    "ExecuteTime": {
     "end_time": "2021-10-11T20:12:22.223974Z",
     "start_time": "2021-10-11T20:12:22.205987Z"
    },
    "collapsed": true
   },
   "outputs": [],
   "source": [
    "expressive = 'unbelievable'\n",
    "marks = [i for i in range (1, 11)]"
   ]
  },
  {
   "cell_type": "code",
   "execution_count": 180,
   "metadata": {
    "ExecuteTime": {
     "end_time": "2021-10-11T20:11:22.977158Z",
     "start_time": "2021-10-11T20:11:22.892268Z"
    }
   },
   "outputs": [
    {
     "data": {
      "text/html": [
       "<div>\n",
       "<style scoped>\n",
       "    .dataframe tbody tr th:only-of-type {\n",
       "        vertical-align: middle;\n",
       "    }\n",
       "\n",
       "    .dataframe tbody tr th {\n",
       "        vertical-align: top;\n",
       "    }\n",
       "\n",
       "    .dataframe thead th {\n",
       "        text-align: right;\n",
       "    }\n",
       "</style>\n",
       "<table border=\"1\" class=\"dataframe\">\n",
       "  <thead>\n",
       "    <tr style=\"text-align: right;\">\n",
       "      <th></th>\n",
       "      <th>text</th>\n",
       "      <th>mark</th>\n",
       "    </tr>\n",
       "  </thead>\n",
       "  <tbody>\n",
       "    <tr>\n",
       "      <th>62</th>\n",
       "      <td>so...we get so see added footage of brando...i...</td>\n",
       "      <td>2</td>\n",
       "    </tr>\n",
       "    <tr>\n",
       "      <th>85</th>\n",
       "      <td>well, at least my theater group did, lol. so o...</td>\n",
       "      <td>2</td>\n",
       "    </tr>\n",
       "    <tr>\n",
       "      <th>91</th>\n",
       "      <td>i laughed all the way through this rotten movi...</td>\n",
       "      <td>4</td>\n",
       "    </tr>\n",
       "    <tr>\n",
       "      <th>142</th>\n",
       "      <td>he was my hero for all time until he went alon...</td>\n",
       "      <td>1</td>\n",
       "    </tr>\n",
       "    <tr>\n",
       "      <th>165</th>\n",
       "      <td>i can't believe that steven segal's career has...</td>\n",
       "      <td>1</td>\n",
       "    </tr>\n",
       "    <tr>\n",
       "      <th>189</th>\n",
       "      <td>the championship game is only a couple of days...</td>\n",
       "      <td>2</td>\n",
       "    </tr>\n",
       "    <tr>\n",
       "      <th>314</th>\n",
       "      <td>i hate to sound like an 'old person', but fran...</td>\n",
       "      <td>1</td>\n",
       "    </tr>\n",
       "    <tr>\n",
       "      <th>338</th>\n",
       "      <td>here, let me wave my hands over the keyboard, ...</td>\n",
       "      <td>1</td>\n",
       "    </tr>\n",
       "    <tr>\n",
       "      <th>379</th>\n",
       "      <td>i rented this movie from the library (it's har...</td>\n",
       "      <td>1</td>\n",
       "    </tr>\n",
       "    <tr>\n",
       "      <th>380</th>\n",
       "      <td>jameson parker and marilyn hassett are the scr...</td>\n",
       "      <td>2</td>\n",
       "    </tr>\n",
       "  </tbody>\n",
       "</table>\n",
       "</div>"
      ],
      "text/plain": [
       "                                                  text mark\n",
       "62   so...we get so see added footage of brando...i...    2\n",
       "85   well, at least my theater group did, lol. so o...    2\n",
       "91   i laughed all the way through this rotten movi...    4\n",
       "142  he was my hero for all time until he went alon...    1\n",
       "165  i can't believe that steven segal's career has...    1\n",
       "189  the championship game is only a couple of days...    2\n",
       "314  i hate to sound like an 'old person', but fran...    1\n",
       "338  here, let me wave my hands over the keyboard, ...    1\n",
       "379  i rented this movie from the library (it's har...    1\n",
       "380  jameson parker and marilyn hassett are the scr...    2"
      ]
     },
     "execution_count": 180,
     "metadata": {},
     "output_type": "execute_result"
    }
   ],
   "source": [
    "#подкорпус отзывов, в которых используется экспрессив\n",
    "expr_df = df[df.text.str.contains(expressive)][['text','mark']]\n",
    "expr_df.head(10)"
   ]
  },
  {
   "cell_type": "code",
   "execution_count": 176,
   "metadata": {
    "ExecuteTime": {
     "end_time": "2021-10-11T20:06:53.120398Z",
     "start_time": "2021-10-11T20:06:53.098899Z"
    }
   },
   "outputs": [],
   "source": [
    "\n",
    "def count_labels (i, countR, countX, index):\n",
    "    if str(i.mark) == str(index):\n",
    "        countR += len([x for x in i.token if len(x) == len('unbelievable') and x != 'unbelievable'])\n",
    "        countX += len(re.findall(r'unbelievable', i.text))\n",
    "    return countX, countR"
   ]
  },
  {
   "cell_type": "code",
   "execution_count": 187,
   "metadata": {
    "ExecuteTime": {
     "end_time": "2021-10-11T20:14:07.306807Z",
     "start_time": "2021-10-11T20:14:05.686838Z"
    },
    "run_control": {
     "marked": true
    }
   },
   "outputs": [],
   "source": [
    "\n",
    "log_odds = []\n",
    "x_R = 0\n",
    "x_X = 0\n",
    "for index in range(1, 11):\n",
    "    for j in expr_df.index.tolist():\n",
    "        i = df.loc[j]\n",
    "        if str(i.mark) == str(index):\n",
    "            x_R += len([x for x in i.token if len(x) == len(expressive) and x != expressive])\n",
    "            x_X += len(re.findall(expressive, i.text))\n",
    "    log_odds.append(np.log(x_X/(x_R - x_X)))"
   ]
  },
  {
   "cell_type": "code",
   "execution_count": null,
   "metadata": {
    "collapsed": true
   },
   "outputs": [],
   "source": []
  },
  {
   "cell_type": "code",
   "execution_count": 233,
   "metadata": {
    "ExecuteTime": {
     "end_time": "2021-10-11T20:49:20.916415Z",
     "start_time": "2021-10-11T20:49:20.666196Z"
    }
   },
   "outputs": [
    {
     "data": {
      "image/png": "[encoded data removed]",
      "text/plain": [
       "<Figure size 432x288 with 1 Axes>"
      ]
     },
     "metadata": {},
     "output_type": "display_data"
    }
   ],
   "source": [
    "plt.title('Профиль unbelievable')\n",
    "plt.plot(marks, log_odds,'ro')\n",
    "plt.show()"
   ]
  },
  {
   "cell_type": "code",
   "execution_count": 193,
   "metadata": {
    "ExecuteTime": {
     "end_time": "2021-10-11T20:17:35.193418Z",
     "start_time": "2021-10-11T20:17:35.181270Z"
    },
    "collapsed": true
   },
   "outputs": [],
   "source": [
    "X = np.array(marks)\n",
    "y = np.array(log_odds)"
   ]
  },
  {
   "cell_type": "code",
   "execution_count": 229,
   "metadata": {
    "ExecuteTime": {
     "end_time": "2021-10-11T20:45:11.120255Z",
     "start_time": "2021-10-11T20:45:11.086543Z"
    }
   },
   "outputs": [
    {
     "name": "stdout",
     "output_type": "stream",
     "text": [
      "Значение R² для линейной регрессии 0.7530518935497292\n"
     ]
    }
   ],
   "source": [
    "# для линейной регрессии\n",
    "from sklearn.linear_model import LinearRegression\n",
    "slr = LinearRegression()\n",
    "slr.fit(np.array(marks).reshape(-1, 1), np.array(log_odds).reshape(-1, 1))\n",
    "y_pred = slr.predict(np.array(marks).reshape(-1, 1))\n",
    "res =  slr.score(np.array(marks).reshape(-1, 1, ), np.array(log_odds).reshape(-1, 1))\n",
    "print(\"Значение R² для линейной регрессии\",res)"
   ]
  },
  {
   "cell_type": "code",
   "execution_count": 230,
   "metadata": {
    "ExecuteTime": {
     "end_time": "2021-10-11T20:45:38.436314Z",
     "start_time": "2021-10-11T20:45:38.401456Z"
    }
   },
   "outputs": [
    {
     "name": "stdout",
     "output_type": "stream",
     "text": [
      "Значение R² для квадратичной регрессии 0.8397689738930556\n"
     ]
    }
   ],
   "source": [
    "# для квадратичной регрессии \n",
    "from sklearn.metrics import r2_score\n",
    "coeffs = np.polyfit(X, y, 2)\n",
    "p = np.poly1d(coeffs)\n",
    "print(\"Значение R² для квадратичной регрессии\",r2_score(p(X), y))"
   ]
  },
  {
   "cell_type": "markdown",
   "metadata": {},
   "source": [
    "как видно, квадратичная регрессия подходит для данных лучше"
   ]
  },
  {
   "cell_type": "code",
   "execution_count": 232,
   "metadata": {
    "ExecuteTime": {
     "end_time": "2021-10-11T20:48:49.101156Z",
     "start_time": "2021-10-11T20:48:48.815520Z"
    }
   },
   "outputs": [
    {
     "data": {
      "image/png": "[encoded data removed]",
      "text/plain": [
       "<Figure size 432x288 with 1 Axes>"
      ]
     },
     "metadata": {},
     "output_type": "display_data"
    }
   ],
   "source": [
    "plt.title('Профиль unbelievable и Квадратичная регрессия')\n",
    "plt.scatter(X, y)\n",
    "plt.plot(marks, p(X))\n",
    "plt.show()"
   ]
  },
  {
   "cell_type": "code",
   "execution_count": 236,
   "metadata": {
    "ExecuteTime": {
     "end_time": "2021-10-11T20:51:16.522846Z",
     "start_time": "2021-10-11T20:51:16.478541Z"
    }
   },
   "outputs": [
    {
     "data": {
      "text/plain": [
       "'i laughed all the way through this rotten movie. it\\'s so unbelievable. a woman leaves her husband after many years of marriage, has a breakdown in front of a real estate office. what happens? the office manager comes outside and offers her a job!!! hilarious! next thing you know the two women are going at it. yep, they\\'re lesbians! nothing rings true in this \"lifetime for women with nothing better to do\" movie. clunky dialogue like \"i don\\'t want to spend the rest of my life feeling like i had a chance to be happy and didn\\'t take it\" doesn\\'t help. there\\'s a wealthy, distant mother who disapproves of her daughter\\'s new relationship. a sassy black maid - unbelievable that in the year 2003, a film gets made in which there\\'s a sassy black maid. hattie mcdaniel must be turning in her grave. the woman has a husband who freaks out and wants custody of the snotty teenage kids. sheesh! no cliche is left unturned.'"
      ]
     },
     "execution_count": 236,
     "metadata": {},
     "output_type": "execute_result"
    }
   ],
   "source": [
    "expr_df.loc[91].text"
   ]
  },
  {
   "cell_type": "code",
   "execution_count": 238,
   "metadata": {
    "ExecuteTime": {
     "end_time": "2021-10-11T20:52:51.075570Z",
     "start_time": "2021-10-11T20:52:51.060010Z"
    }
   },
   "outputs": [
    {
     "data": {
      "text/plain": [
       "'what an extraordinary crime thriller!! my wife and i saw this at the toronto international film festival last week and it was far and away the best movie in an exceptionally strong festival. it\\'s already my second favourite film of all-time after dr. strangelove and i was definitely on an emotional high as i walked home and discussed the film with my wife.<br /><br />i don\\'t want to spoil the plot because thrillers of this calibre are best enjoyed without preconceptions. a synopsis that i\\'d feel comfortable sharing is that two brothers, played by phillip seymour hoffman and ethan hawke, are planning to rob a jewellery store in westchester, new york. the film bounces back and forth in time over approximately a two week period of time (before, during and after the robbery), and one key scene is repeated at least three times. ordinarily, that could disrupt the momentum of a film but that never happens during this masterpiece. the excitement, the tension, and even the quality of the acting only seemed to get better as the film progressed. by the end, i was on the edge of my seat breathlessly waiting to see how it would all wrap up. i know that i\\'ve used a few clichés in this post, but i literally was on the edge of my seat. i should mention that the non-linear storyline is quite easy to follow. this isn\\'t the sort of movie where you\\'ll overhear audience members asking their friend to explain the plot during the movie.<br /><br />the acting is absolutely brilliant all-around, and i doubt i would have the same admiration for the film if the casting hadn\\'t been so perfect. a tiny complaint is that hoffman and hawke don\\'t look like brothers, but that\\'s a minor quibble that i can easily overlook. hoffman was at his very best and some of his scenes with hawke were positively electric. marisa tomei (as hoffman\\'s wife) and albert finney (as the father of hoffman & hawke) are also very good in supporting roles. even some cameo performances were so impressive that i can still remember every remark, gesture and facial expression by brian o\\'byrne and michael shannon \\x96 absolute perfection. the robbery scene felt more authentic than any other cinematic robbery scene i\\'ve ever watched, and i had the same feeling of authenticity in most scenes, especially the ones with hoffman. the music helped to build up the tension throughout the movie, often the same notes played over very effectively. i had the music playing in my head the following day, even as i sat through other films. in addition to my minor complaint at the beginning of this paragraph, there was one plot twist that felt a bit unbelievable (major spoiler, so i can\\'t describe the scene). otherwise, this film is pretty darn close to perfect.<br /><br />there were about a dozen great films at the festival that i would enjoy watching a second time but before the devil knows you\\'re dead stands in a league of its own. as an aside, the director sidney lumet spoke before the film and he introduced marisa tomei and ethan hawke onto the stage. tomei didn\\'t speak and she acted a bit shy so lumet asked \"can you believe that someone so beautiful could be so camera-shy?\" that comment is quite ironic considering the graphic opening scene!!'"
      ]
     },
     "execution_count": 238,
     "metadata": {},
     "output_type": "execute_result"
    }
   ],
   "source": [
    "expr_df.loc[23736].text"
   ]
  },
  {
   "cell_type": "code",
   "execution_count": null,
   "metadata": {
    "collapsed": true
   },
   "outputs": [],
   "source": [
    "expr_df.loc[91].text"
   ]
  },
  {
   "cell_type": "markdown",
   "metadata": {},
   "source": [
    "У нас получился перевернутый J-образный профиль, выше примеры. Это совпало с моей гипотезой. Интересно, что даже в положительно оцененных отзывах, unbelievable преимущественно используется в негативном ключе"
   ]
  },
  {
   "cell_type": "code",
   "execution_count": null,
   "metadata": {
    "collapsed": true
   },
   "outputs": [],
   "source": []
  }
 ],
 "metadata": {
  "kernelspec": {
   "display_name": "Python 3",
   "language": "python",
   "name": "python3"
  },
  "language_info": {
   "codemirror_mode": {
    "name": "ipython",
    "version": 3
   },
   "file_extension": ".py",
   "mimetype": "text/x-python",
   "name": "python",
   "nbconvert_exporter": "python",
   "pygments_lexer": "ipython3",
   "version": "3.6.8"
  },
  "toc": {
   "base_numbering": 1,
   "nav_menu": {},
   "number_sections": true,
   "sideBar": true,
   "skip_h1_title": false,
   "title_cell": "Table of Contents",
   "title_sidebar": "Contents",
   "toc_cell": false,
   "toc_position": {},
   "toc_section_display": true,
   "toc_window_display": false
  },
  "varInspector": {
   "cols": {
    "lenName": 16,
    "lenType": 16,
    "lenVar": 40
   },
   "kernels_config": {
    "python": {
     "delete_cmd_postfix": "",
     "delete_cmd_prefix": "del ",
     "library": "var_list.py",
     "varRefreshCmd": "print(var_dic_list())"
    },
    "r": {
     "delete_cmd_postfix": ") ",
     "delete_cmd_prefix": "rm(",
     "library": "var_list.r",
     "varRefreshCmd": "cat(var_dic_list()) "
    }
   },
   "types_to_exclude": [
    "module",
    "function",
    "builtin_function_or_method",
    "instance",
    "_Feature"
   ],
   "window_display": false
  }
 },
 "nbformat": 4,
 "nbformat_minor": 2
}
